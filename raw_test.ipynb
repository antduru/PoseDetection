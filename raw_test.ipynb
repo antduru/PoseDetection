{
 "cells": [
  {
   "cell_type": "code",
   "execution_count": 1,
   "metadata": {},
   "outputs": [],
   "source": [
    "import torch\n",
    "import torch.nn as nn \n",
    "import torchvision\n",
    "from collections import OrderedDict\n",
    "from torchvision.transforms.transforms import F\n",
    "from PIL import Image\n",
    "import copy\n",
    "import numpy as np \n",
    "import os \n",
    "import json\n",
    "from src.arch.models import SinglePersonPoseEtimator\n",
    "\n",
    "json_path = './annotations/mpii/fullannotations.json'\n",
    "joint_path = './annotations/mpii/jointdict.json'\n",
    "histogram_path = './annotations/mpii/histogram.json'\n",
    "images_path = './images/mpii_resized'\n",
    "\n",
    "with open(json_path, 'r') as fp:\n",
    "    json_list = json.load(fp)\n",
    "    \n",
    "def simulate_yolo_output(image_object):\n",
    "    image_name = image_object['image_name']\n",
    "    original = F.to_tensor(Image.open(os.path.join(images_path, image_name)))\n",
    "    return [person_object['bbox'] for person_object in image_object['people']], original\n"
   ]
  },
  {
   "cell_type": "code",
   "execution_count": 2,
   "metadata": {},
   "outputs": [
    {
     "name": "stderr",
     "output_type": "stream",
     "text": [
      "/home/ubombar/anaconda3/envs/torch/lib/python3.8/site-packages/torch/tensor.py:447: UserWarning: non-inplace resize is deprecated\n",
      "  warnings.warn(\"non-inplace resize is deprecated\")\n"
     ]
    },
    {
     "data": {
      "text/plain": [
       "tensor([[[-0.0247,  0.0025, -0.0090, -0.0091,  0.0115, -0.0224],\n",
       "         [ 0.0038,  0.0234,  0.0204,  0.0145,  0.0064,  0.0218],\n",
       "         [ 0.0089,  0.0285, -0.0206,  0.0038,  0.0230,  0.0115],\n",
       "         ...,\n",
       "         [ 0.0044, -0.0241,  0.0126,  0.0048,  0.0107, -0.0054],\n",
       "         [-0.0080, -0.0181,  0.0049, -0.0144, -0.0106, -0.0288],\n",
       "         [-0.0116,  0.0114, -0.0163, -0.0047,  0.0027,  0.0038]],\n",
       "\n",
       "        [[-0.0097, -0.0010,  0.0005, -0.0153,  0.0208,  0.0081],\n",
       "         [-0.0057,  0.0061, -0.0181, -0.0090,  0.0119,  0.0078],\n",
       "         [-0.0057, -0.0097, -0.0195,  0.0107, -0.0002, -0.0078],\n",
       "         ...,\n",
       "         [-0.0145, -0.0028, -0.0072,  0.0198,  0.0012, -0.0181],\n",
       "         [-0.0248, -0.0076,  0.0149,  0.0022, -0.0077,  0.0032],\n",
       "         [-0.0006, -0.0023,  0.0003, -0.0169,  0.0203,  0.0096]],\n",
       "\n",
       "        [[-0.0065, -0.0242,  0.0015, -0.0103, -0.0185, -0.0030],\n",
       "         [ 0.0077,  0.0101, -0.0170,  0.0044,  0.0014,  0.0064],\n",
       "         [ 0.0130, -0.0078,  0.0051,  0.0138,  0.0154, -0.0179],\n",
       "         ...,\n",
       "         [-0.0057,  0.0058, -0.0174, -0.0004,  0.0086, -0.0197],\n",
       "         [-0.0162,  0.0039, -0.0099, -0.0062,  0.0073,  0.0132],\n",
       "         [-0.0126,  0.0023,  0.0064, -0.0086, -0.0204, -0.0051]],\n",
       "\n",
       "        ...,\n",
       "\n",
       "        [[-0.0062,  0.0089,  0.0237,  0.0325,  0.0315, -0.0084],\n",
       "         [ 0.0064, -0.0129,  0.0016,  0.0066, -0.0204,  0.0028],\n",
       "         [ 0.0081,  0.0218, -0.0008, -0.0086, -0.0189,  0.0057],\n",
       "         ...,\n",
       "         [-0.0127,  0.0219, -0.0331, -0.0114,  0.0128,  0.0200],\n",
       "         [ 0.0305,  0.0156, -0.0022,  0.0070,  0.0003,  0.0093],\n",
       "         [-0.0295, -0.0136,  0.0070,  0.0032,  0.0083, -0.0087]],\n",
       "\n",
       "        [[-0.0178,  0.0175,  0.0029,  0.0085,  0.0007, -0.0184],\n",
       "         [-0.0042, -0.0170,  0.0212,  0.0069, -0.0019, -0.0093],\n",
       "         [-0.0114,  0.0148, -0.0033, -0.0044, -0.0081, -0.0003],\n",
       "         ...,\n",
       "         [-0.0102,  0.0051, -0.0153,  0.0004,  0.0128,  0.0174],\n",
       "         [ 0.0254,  0.0208, -0.0086, -0.0101,  0.0282,  0.0281],\n",
       "         [ 0.0142,  0.0043,  0.0108, -0.0071, -0.0024,  0.0033]],\n",
       "\n",
       "        [[ 0.0152, -0.0074,  0.0087,  0.0060,  0.0072, -0.0172],\n",
       "         [ 0.0144,  0.0097,  0.0129,  0.0104, -0.0026, -0.0088],\n",
       "         [ 0.0100,  0.0050, -0.0022, -0.0038, -0.0055,  0.0100],\n",
       "         ...,\n",
       "         [ 0.0096,  0.0106, -0.0116, -0.0122, -0.0019, -0.0101],\n",
       "         [-0.0089,  0.0165,  0.0052,  0.0028,  0.0040,  0.0100],\n",
       "         [ 0.0022, -0.0200, -0.0261, -0.0035, -0.0297, -0.0085]]])"
      ]
     },
     "execution_count": 2,
     "metadata": {},
     "output_type": "execute_result"
    }
   ],
   "source": [
    "\n",
    "\n",
    "        \n",
    "def run(image_object):\n",
    "    with torch.no_grad():\n",
    "        bboxes, original = simulate_yolo_output(image_object)\n",
    "        model = SinglePersonPoseEtimator()\n",
    "        model.train()\n",
    "\n",
    "        output = model(original, bboxes, 0)\n",
    "\n",
    "        return output\n",
    "\n",
    "run(json_list[2])"
   ]
  },
  {
   "cell_type": "code",
   "execution_count": null,
   "metadata": {},
   "outputs": [],
   "source": []
  },
  {
   "cell_type": "code",
   "execution_count": null,
   "metadata": {},
   "outputs": [],
   "source": []
  },
  {
   "cell_type": "code",
   "execution_count": null,
   "metadata": {},
   "outputs": [],
   "source": []
  },
  {
   "cell_type": "code",
   "execution_count": null,
   "metadata": {},
   "outputs": [],
   "source": []
  },
  {
   "cell_type": "code",
   "execution_count": null,
   "metadata": {},
   "outputs": [],
   "source": []
  }
 ],
 "metadata": {
  "kernelspec": {
   "display_name": "Python 3.8.5 64-bit ('torch': conda)",
   "language": "python",
   "name": "python38564bittorchcondaa4bcd539d1ca4a79aa039866b3450dd3"
  },
  "language_info": {
   "codemirror_mode": {
    "name": "ipython",
    "version": 3
   },
   "file_extension": ".py",
   "mimetype": "text/x-python",
   "name": "python",
   "nbconvert_exporter": "python",
   "pygments_lexer": "ipython3",
   "version": "3.8.5"
  }
 },
 "nbformat": 4,
 "nbformat_minor": 4
}
