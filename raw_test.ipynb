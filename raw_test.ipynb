{
 "cells": [
  {
   "cell_type": "code",
   "execution_count": 1,
   "metadata": {},
   "outputs": [],
   "source": [
    "import torch\n",
    "import torchvision\n",
    "from scipy.io import loadmat\n",
    "import numpy as np\n",
    "from PIL import Image\n",
    "import json"
   ]
  },
  {
   "cell_type": "code",
   "execution_count": 48,
   "metadata": {},
   "outputs": [],
   "source": [
    "def has(sett, dictt):\n",
    "    for sette in sett:\n",
    "        if not sette in dictt: return False\n",
    "    return True"
   ]
  },
  {
   "cell_type": "code",
   "execution_count": 3,
   "metadata": {},
   "outputs": [
    {
     "name": "stdout",
     "output_type": "stream",
     "text": [
      "Reading raw json file\n"
     ]
    }
   ],
   "source": [
    "rawjson_path = './annotations/mpii/raw_annotations.json'\n",
    "processedjson_path = './annotations/mpii/fullannotations.json'\n",
    "scale_factor = 1.25\n",
    "\n",
    "print('Reading raw json file')\n",
    "\n",
    "with open(rawjson_path) as fp:\n",
    "    raw_json = json.load(fp)['RELEASE']"
   ]
  },
  {
   "cell_type": "code",
   "execution_count": 70,
   "metadata": {},
   "outputs": [
    {
     "name": "stdout",
     "output_type": "stream",
     "text": [
      "Processing raw json file\n",
      "Saving processed json file\n",
      "Processing finished!\n",
      "! Recovered 23.41% of the images (processed 5850 out of 24987)\n"
     ]
    }
   ],
   "source": [
    "testset = list()\n",
    "\n",
    "print('Processing raw json file')\n",
    "\n",
    "processed_json = []\n",
    "person_should_include = {'annopoints', 'x1', 'y1', 'x2', 'y2', 'scale'}\n",
    "\n",
    "for anno, is_train in zip(raw_json['annolist'], raw_json['img_train']):\n",
    "    if is_train == 0:\n",
    "        continue\n",
    "    else:\n",
    "        image_object = {\n",
    "            'image_name': anno['image']['name'],\n",
    "            'is_train': True,\n",
    "            \"has_people\": False,\n",
    "            'people': []\n",
    "        }\n",
    "        image_object_people = []\n",
    "        \n",
    "#         if '076161962.jpg' not in anno['image']['name']: continue\n",
    "        \n",
    "        exclude = False\n",
    "        \n",
    "        if len(anno['annorect']) == 0: continue\n",
    "\n",
    "        for person in anno['annorect']:\n",
    "            if not has(person_should_include, person): \n",
    "                exclude = True\n",
    "                break\n",
    "            \n",
    "            if isinstance(person['scale'], list):\n",
    "                exclude = True\n",
    "                break\n",
    "\n",
    "            person_object = {\n",
    "                'head_coordinates': {\n",
    "                    \"x1\": int(person['x1'] / scale_factor), \n",
    "                    \"y1\": int(person['y1'] / scale_factor), \n",
    "                    \"x2\": int(person['x2'] / scale_factor), \n",
    "                    \"y2\": int(person['y2'] / scale_factor)\n",
    "                },\n",
    "                'scale': float(person['scale']),\n",
    "                'joints': []\n",
    "            }\n",
    "\n",
    "            if len(person['annopoints']) == 0: \n",
    "                exclude = True\n",
    "                continue\n",
    "\n",
    "            if not isinstance(person['annopoints']['point'], list):\n",
    "                person_joint_list_raw = [person['annopoints']['point']]\n",
    "            else:\n",
    "                person_joint_list_raw = person['annopoints']['point']\n",
    "                \n",
    "\n",
    "\n",
    "            for joint in person_joint_list_raw:\n",
    "                if not has({'is_visible'}, joint): \n",
    "                    joint['is_visible'] = False\n",
    "\n",
    "                if isinstance(joint['is_visible'], str):\n",
    "                    is_visible = '1' in joint['is_visible']\n",
    "                elif isinstance(joint['is_visible'], list):\n",
    "                    is_visible = False\n",
    "                elif isinstance(joint['is_visible'], bool):\n",
    "                    is_visible = joint['is_visible']\n",
    "\n",
    "                person_object['joints'].append({\n",
    "                    'x': int(joint['x'] / scale_factor),\n",
    "                    'y': int(joint['y'] / scale_factor),\n",
    "                    'id': int(joint['id']),\n",
    "                    'is_visible': is_visible\n",
    "                })\n",
    "            image_object_people.append(person_object)\n",
    "        \n",
    "        if not exclude:\n",
    "            image_object['people'] = image_object_people\n",
    "            image_object['has_people'] = len(image_object['people']) != 0\n",
    "            processed_json.append(image_object)\n",
    "\n",
    "print('Saving processed json file')\n",
    "\n",
    "# with open(processedjson_path, 'w+') as fp:\n",
    "#     json.dump(processed_json, fp)\n",
    "\n",
    "print('Processing finished!')\n",
    "\n",
    "num_original = len(raw_json['annolist'])\n",
    "num_processed = len(processed_json)\n",
    "\n",
    "print('! Recovered {:2.2f}% of the images (processed {:1} out of {:1})'.format(\n",
    "    100 * num_processed / num_original,\n",
    "    num_processed,\n",
    "    num_original\n",
    "))"
   ]
  },
  {
   "cell_type": "code",
   "execution_count": 71,
   "metadata": {},
   "outputs": [
    {
     "data": {
      "text/plain": [
       "[]"
      ]
     },
     "execution_count": 71,
     "metadata": {},
     "output_type": "execute_result"
    }
   ],
   "source": [
    "testset"
   ]
  },
  {
   "cell_type": "code",
   "execution_count": 77,
   "metadata": {},
   "outputs": [
    {
     "data": {
      "text/plain": [
       "set()"
      ]
     },
     "execution_count": 77,
     "metadata": {},
     "output_type": "execute_result"
    }
   ],
   "source": [
    "def find(processed_json, image_name):\n",
    "    for image_object in processed_json:\n",
    "        if image_object['image_name'] == image_name:\n",
    "            return image_object\n",
    "    return None\n",
    "\n",
    "def find_has_people(processed_json):\n",
    "    sett = set()\n",
    "    for image_object in processed_json:\n",
    "        if image_object['has_people'] == False:\n",
    "            sett.add(image_object['image_name'])\n",
    "    return sett\n",
    "\n",
    "find_has_people(processed_json)"
   ]
  },
  {
   "cell_type": "code",
   "execution_count": null,
   "metadata": {},
   "outputs": [],
   "source": []
  }
 ],
 "metadata": {
  "kernelspec": {
   "display_name": "Python 3.8.5 64-bit ('torch': conda)",
   "language": "python",
   "name": "python38564bittorchcondaa4bcd539d1ca4a79aa039866b3450dd3"
  },
  "language_info": {
   "codemirror_mode": {
    "name": "ipython",
    "version": 3
   },
   "file_extension": ".py",
   "mimetype": "text/x-python",
   "name": "python",
   "nbconvert_exporter": "python",
   "pygments_lexer": "ipython3",
   "version": "3.8.5"
  }
 },
 "nbformat": 4,
 "nbformat_minor": 4
}
